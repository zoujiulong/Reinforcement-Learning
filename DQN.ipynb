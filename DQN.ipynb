{
  "nbformat": 4,
  "nbformat_minor": 0,
  "metadata": {
    "colab": {
      "provenance": [],
      "authorship_tag": "ABX9TyPRFhx6Ltbg0w5zoK051laJ",
      "include_colab_link": true
    },
    "kernelspec": {
      "name": "python3",
      "display_name": "Python 3"
    },
    "language_info": {
      "name": "python"
    }
  },
  "cells": [
    {
      "cell_type": "markdown",
      "metadata": {
        "id": "view-in-github",
        "colab_type": "text"
      },
      "source": [
        "<a href=\"https://colab.research.google.com/github/zoujiulong/Reinforcement-Learning/blob/main/DQN.ipynb\" target=\"_parent\"><img src=\"https://colab.research.google.com/assets/colab-badge.svg\" alt=\"Open In Colab\"/></a>"
      ]
    },
    {
      "cell_type": "code",
      "source": [
        "import gymnasium as gym\n",
        "import numpy as np\n",
        "import torch\n",
        "from torch import nn\n",
        "from torch.optim import Adam\n",
        "from tqdm import tqdm\n",
        "import time\n",
        "import matplotlib.pyplot as plt\n",
        "\n",
        "# 环境\n",
        "env = gym.make(\"FrozenLake-v1\", is_slippery=False)\n",
        "obs_n = env.observation_space.n\n",
        "act_n = env.action_space.n\n",
        "\n",
        "# 模型定义\n",
        "class DQN(nn.Module):\n",
        "    def __init__(self):\n",
        "        super().__init__()\n",
        "        self.fc = nn.Sequential(\n",
        "            nn.Linear(obs_n, 64),\n",
        "            nn.ReLU(),\n",
        "            nn.Linear(64, act_n)\n",
        "        )\n",
        "    def forward(self, x):\n",
        "        return self.fc(x)\n",
        "\n",
        "# One-hot 编码\n",
        "def to_one_hot(i, n_classes):\n",
        "    vec = torch.zeros(n_classes)\n",
        "    vec[i] = 1\n",
        "    return vec\n",
        "\n",
        "# 初始化\n",
        "model = DQN()\n",
        "optimizer = Adam(model.parameters(), lr=0.001)\n",
        "criterion = nn.MSELoss()\n",
        "\n",
        "gamma = 0.99\n",
        "episodes = 1000\n",
        "epsilon = 1.0\n",
        "min_epsilon = 0.05\n",
        "decay_rate = 0.95\n",
        "\n",
        "rList = []\n",
        "running_reward = None\n",
        "success_rate=[]\n",
        "for ep in tqdm(range(episodes), desc=\"Training\"):\n",
        "    s, _ = env.reset()\n",
        "    total_reward = 0\n",
        "    start_time = time.time()\n",
        "\n",
        "    # print(env.spec.max_episode_steps)\n",
        "    for _ in range(env.spec.max_episode_steps):\n",
        "        state_vec = to_one_hot(s, obs_n)\n",
        "\n",
        "        # epsilon-greedy 策略\n",
        "        if np.random.rand() < epsilon:\n",
        "            a = np.random.randint(act_n)\n",
        "        else:\n",
        "          with torch.no_grad():\n",
        "              q_values = model(state_vec)\n",
        "              a = torch.argmax(q_values).item()\n",
        "\n",
        "        s1, r, done, _, _ = env.step(a)\n",
        "\n",
        "        next_state_vec = to_one_hot(s1, obs_n)\n",
        "        with torch.no_grad():\n",
        "            q_next = model(next_state_vec)\n",
        "            q_target = r + gamma * torch.max(q_next).item() if not done else r\n",
        "\n",
        "        q_pred = model(state_vec)\n",
        "        target = q_pred.clone().detach()\n",
        "        target[a] = q_target\n",
        "\n",
        "        loss = criterion(q_pred, target)\n",
        "        optimizer.zero_grad()\n",
        "        loss.backward()\n",
        "        optimizer.step()\n",
        "\n",
        "        s = s1\n",
        "        total_reward += r\n",
        "        if done:\n",
        "            break\n",
        "\n",
        "    epsilon = max(min_epsilon, epsilon * decay_rate)\n",
        "    rList.append(total_reward)\n",
        "    WINDOW = 100  # 最近100轮\n",
        "    if ep >= WINDOW:\n",
        "        recent_success_rate = sum(rList[-WINDOW:]) / WINDOW\n",
        "        success_rate.append(recent_success_rate)\n",
        "        print(f\"Recent success rate (last {WINDOW} episodes): {recent_success_rate:.2f}\")\n",
        "\n",
        "    running_reward = total_reward if running_reward is None else 0.99 * running_reward + 0.01 * total_reward\n",
        "\n",
        "plt.plot(range(len(success_rate)),success_rate,label='success_rate')\n",
        "plt.xlabel('epoch')\n",
        "plt.ylabel('success_rate')\n",
        "plt.legend()\n",
        "plt.show()\n"
      ],
      "metadata": {
        "colab": {
          "base_uri": "https://localhost:8080/",
          "height": 1000
        },
        "id": "5le6q6YUNyii",
        "outputId": "f03c1008-e487-425f-a354-a4ca4a34525c"
      },
      "execution_count": 87,
      "outputs": [
        {
          "output_type": "stream",
          "name": "stderr",
          "text": [
            "Training:  10%|█         | 102/1000 [00:06<00:55, 16.23it/s]"
          ]
        },
        {
          "output_type": "stream",
          "name": "stdout",
          "text": [
            "Recent success rate (last 100 episodes): 0.01\n",
            "Recent success rate (last 100 episodes): 0.02\n",
            "Recent success rate (last 100 episodes): 0.03\n",
            "Recent success rate (last 100 episodes): 0.04\n",
            "Recent success rate (last 100 episodes): 0.05\n",
            "Recent success rate (last 100 episodes): 0.06\n",
            "Recent success rate (last 100 episodes): 0.07\n",
            "Recent success rate (last 100 episodes): 0.08\n",
            "Recent success rate (last 100 episodes): 0.09\n",
            "Recent success rate (last 100 episodes): 0.10\n",
            "Recent success rate (last 100 episodes): 0.11\n",
            "Recent success rate (last 100 episodes): 0.12\n"
          ]
        },
        {
          "output_type": "stream",
          "name": "stderr",
          "text": [
            "Training:  13%|█▎        | 128/1000 [00:06<00:13, 62.77it/s]"
          ]
        },
        {
          "output_type": "stream",
          "name": "stdout",
          "text": [
            "Recent success rate (last 100 episodes): 0.12\n",
            "Recent success rate (last 100 episodes): 0.12\n",
            "Recent success rate (last 100 episodes): 0.13\n",
            "Recent success rate (last 100 episodes): 0.14\n",
            "Recent success rate (last 100 episodes): 0.15\n",
            "Recent success rate (last 100 episodes): 0.16\n",
            "Recent success rate (last 100 episodes): 0.17\n",
            "Recent success rate (last 100 episodes): 0.18\n",
            "Recent success rate (last 100 episodes): 0.19\n",
            "Recent success rate (last 100 episodes): 0.20\n",
            "Recent success rate (last 100 episodes): 0.20\n",
            "Recent success rate (last 100 episodes): 0.21\n",
            "Recent success rate (last 100 episodes): 0.22\n",
            "Recent success rate (last 100 episodes): 0.23\n",
            "Recent success rate (last 100 episodes): 0.24\n",
            "Recent success rate (last 100 episodes): 0.25\n",
            "Recent success rate (last 100 episodes): 0.26\n",
            "Recent success rate (last 100 episodes): 0.27\n",
            "Recent success rate (last 100 episodes): 0.28\n",
            "Recent success rate (last 100 episodes): 0.29\n",
            "Recent success rate (last 100 episodes): 0.30\n",
            "Recent success rate (last 100 episodes): 0.31\n",
            "Recent success rate (last 100 episodes): 0.32\n",
            "Recent success rate (last 100 episodes): 0.33\n",
            "Recent success rate (last 100 episodes): 0.34\n",
            "Recent success rate (last 100 episodes): 0.35\n",
            "Recent success rate (last 100 episodes): 0.36\n"
          ]
        },
        {
          "output_type": "stream",
          "name": "stderr",
          "text": [
            "Training:  15%|█▌        | 151/1000 [00:06<00:11, 75.39it/s]"
          ]
        },
        {
          "output_type": "stream",
          "name": "stdout",
          "text": [
            "Recent success rate (last 100 episodes): 0.37\n",
            "Recent success rate (last 100 episodes): 0.38\n",
            "Recent success rate (last 100 episodes): 0.39\n",
            "Recent success rate (last 100 episodes): 0.39\n",
            "Recent success rate (last 100 episodes): 0.40\n",
            "Recent success rate (last 100 episodes): 0.41\n",
            "Recent success rate (last 100 episodes): 0.42\n",
            "Recent success rate (last 100 episodes): 0.43\n",
            "Recent success rate (last 100 episodes): 0.44\n",
            "Recent success rate (last 100 episodes): 0.44\n",
            "Recent success rate (last 100 episodes): 0.45\n",
            "Recent success rate (last 100 episodes): 0.45\n"
          ]
        },
        {
          "output_type": "stream",
          "name": "stderr",
          "text": [
            "\rTraining:  16%|█▌        | 160/1000 [00:06<00:13, 63.55it/s]"
          ]
        },
        {
          "output_type": "stream",
          "name": "stdout",
          "text": [
            "Recent success rate (last 100 episodes): 0.46\n",
            "Recent success rate (last 100 episodes): 0.47\n",
            "Recent success rate (last 100 episodes): 0.48\n",
            "Recent success rate (last 100 episodes): 0.49\n",
            "Recent success rate (last 100 episodes): 0.50\n",
            "Recent success rate (last 100 episodes): 0.51\n",
            "Recent success rate (last 100 episodes): 0.52\n",
            "Recent success rate (last 100 episodes): 0.52\n",
            "Recent success rate (last 100 episodes): 0.52\n",
            "Recent success rate (last 100 episodes): 0.53\n",
            "Recent success rate (last 100 episodes): 0.54\n",
            "Recent success rate (last 100 episodes): 0.55\n",
            "Recent success rate (last 100 episodes): 0.56\n",
            "Recent success rate (last 100 episodes): 0.57\n",
            "Recent success rate (last 100 episodes): 0.58\n",
            "Recent success rate (last 100 episodes): 0.59\n",
            "Recent success rate (last 100 episodes): 0.60\n"
          ]
        },
        {
          "output_type": "stream",
          "name": "stderr",
          "text": [
            "Training:  18%|█▊        | 185/1000 [00:07<00:09, 87.81it/s]"
          ]
        },
        {
          "output_type": "stream",
          "name": "stdout",
          "text": [
            "Recent success rate (last 100 episodes): 0.61\n",
            "Recent success rate (last 100 episodes): 0.62\n",
            "Recent success rate (last 100 episodes): 0.63\n",
            "Recent success rate (last 100 episodes): 0.64\n",
            "Recent success rate (last 100 episodes): 0.64\n",
            "Recent success rate (last 100 episodes): 0.65\n",
            "Recent success rate (last 100 episodes): 0.66\n",
            "Recent success rate (last 100 episodes): 0.67\n",
            "Recent success rate (last 100 episodes): 0.68\n",
            "Recent success rate (last 100 episodes): 0.69\n",
            "Recent success rate (last 100 episodes): 0.70\n",
            "Recent success rate (last 100 episodes): 0.71\n",
            "Recent success rate (last 100 episodes): 0.72\n",
            "Recent success rate (last 100 episodes): 0.73\n",
            "Recent success rate (last 100 episodes): 0.74\n",
            "Recent success rate (last 100 episodes): 0.75\n",
            "Recent success rate (last 100 episodes): 0.76\n",
            "Recent success rate (last 100 episodes): 0.77\n",
            "Recent success rate (last 100 episodes): 0.78\n",
            "Recent success rate (last 100 episodes): 0.79\n",
            "Recent success rate (last 100 episodes): 0.80\n",
            "Recent success rate (last 100 episodes): 0.80\n",
            "Recent success rate (last 100 episodes): 0.81\n",
            "Recent success rate (last 100 episodes): 0.82\n",
            "Recent success rate (last 100 episodes): 0.83\n"
          ]
        },
        {
          "output_type": "stream",
          "name": "stderr",
          "text": [
            "Training:  21%|██        | 211/1000 [00:07<00:07, 104.59it/s]"
          ]
        },
        {
          "output_type": "stream",
          "name": "stdout",
          "text": [
            "Recent success rate (last 100 episodes): 0.84\n",
            "Recent success rate (last 100 episodes): 0.85\n",
            "Recent success rate (last 100 episodes): 0.86\n",
            "Recent success rate (last 100 episodes): 0.87\n",
            "Recent success rate (last 100 episodes): 0.88\n",
            "Recent success rate (last 100 episodes): 0.88\n",
            "Recent success rate (last 100 episodes): 0.89\n",
            "Recent success rate (last 100 episodes): 0.90\n",
            "Recent success rate (last 100 episodes): 0.90\n",
            "Recent success rate (last 100 episodes): 0.90\n",
            "Recent success rate (last 100 episodes): 0.90\n",
            "Recent success rate (last 100 episodes): 0.90\n",
            "Recent success rate (last 100 episodes): 0.90\n",
            "Recent success rate (last 100 episodes): 0.90\n",
            "Recent success rate (last 100 episodes): 0.90\n",
            "Recent success rate (last 100 episodes): 0.90\n",
            "Recent success rate (last 100 episodes): 0.90\n",
            "Recent success rate (last 100 episodes): 0.90\n",
            "Recent success rate (last 100 episodes): 0.90\n",
            "Recent success rate (last 100 episodes): 0.91\n",
            "Recent success rate (last 100 episodes): 0.92\n",
            "Recent success rate (last 100 episodes): 0.92\n",
            "Recent success rate (last 100 episodes): 0.92\n",
            "Recent success rate (last 100 episodes): 0.92\n",
            "Recent success rate (last 100 episodes): 0.92\n"
          ]
        },
        {
          "output_type": "stream",
          "name": "stderr",
          "text": [
            "Training:  24%|██▎       | 235/1000 [00:07<00:06, 110.14it/s]"
          ]
        },
        {
          "output_type": "stream",
          "name": "stdout",
          "text": [
            "Recent success rate (last 100 episodes): 0.92\n",
            "Recent success rate (last 100 episodes): 0.92\n",
            "Recent success rate (last 100 episodes): 0.91\n",
            "Recent success rate (last 100 episodes): 0.91\n",
            "Recent success rate (last 100 episodes): 0.92\n",
            "Recent success rate (last 100 episodes): 0.92\n",
            "Recent success rate (last 100 episodes): 0.92\n",
            "Recent success rate (last 100 episodes): 0.92\n",
            "Recent success rate (last 100 episodes): 0.92\n",
            "Recent success rate (last 100 episodes): 0.92\n",
            "Recent success rate (last 100 episodes): 0.92\n",
            "Recent success rate (last 100 episodes): 0.92\n",
            "Recent success rate (last 100 episodes): 0.92\n",
            "Recent success rate (last 100 episodes): 0.92\n",
            "Recent success rate (last 100 episodes): 0.92\n",
            "Recent success rate (last 100 episodes): 0.92\n",
            "Recent success rate (last 100 episodes): 0.92\n",
            "Recent success rate (last 100 episodes): 0.92\n",
            "Recent success rate (last 100 episodes): 0.92\n",
            "Recent success rate (last 100 episodes): 0.92\n",
            "Recent success rate (last 100 episodes): 0.92\n",
            "Recent success rate (last 100 episodes): 0.92\n",
            "Recent success rate (last 100 episodes): 0.92\n",
            "Recent success rate (last 100 episodes): 0.92\n"
          ]
        },
        {
          "output_type": "stream",
          "name": "stderr",
          "text": [
            "Training:  26%|██▌       | 261/1000 [00:07<00:06, 114.26it/s]"
          ]
        },
        {
          "output_type": "stream",
          "name": "stdout",
          "text": [
            "Recent success rate (last 100 episodes): 0.93\n",
            "Recent success rate (last 100 episodes): 0.93\n",
            "Recent success rate (last 100 episodes): 0.93\n",
            "Recent success rate (last 100 episodes): 0.93\n",
            "Recent success rate (last 100 episodes): 0.93\n",
            "Recent success rate (last 100 episodes): 0.93\n",
            "Recent success rate (last 100 episodes): 0.94\n",
            "Recent success rate (last 100 episodes): 0.94\n",
            "Recent success rate (last 100 episodes): 0.95\n",
            "Recent success rate (last 100 episodes): 0.95\n",
            "Recent success rate (last 100 episodes): 0.95\n",
            "Recent success rate (last 100 episodes): 0.95\n",
            "Recent success rate (last 100 episodes): 0.95\n",
            "Recent success rate (last 100 episodes): 0.95\n",
            "Recent success rate (last 100 episodes): 0.95\n",
            "Recent success rate (last 100 episodes): 0.95\n",
            "Recent success rate (last 100 episodes): 0.96\n",
            "Recent success rate (last 100 episodes): 0.97\n",
            "Recent success rate (last 100 episodes): 0.97\n",
            "Recent success rate (last 100 episodes): 0.97\n",
            "Recent success rate (last 100 episodes): 0.97\n",
            "Recent success rate (last 100 episodes): 0.97\n",
            "Recent success rate (last 100 episodes): 0.97\n"
          ]
        },
        {
          "output_type": "stream",
          "name": "stderr",
          "text": [
            "Training:  28%|██▊       | 285/1000 [00:07<00:06, 113.19it/s]"
          ]
        },
        {
          "output_type": "stream",
          "name": "stdout",
          "text": [
            "Recent success rate (last 100 episodes): 0.97\n",
            "Recent success rate (last 100 episodes): 0.97\n",
            "Recent success rate (last 100 episodes): 0.97\n",
            "Recent success rate (last 100 episodes): 0.97\n",
            "Recent success rate (last 100 episodes): 0.97\n",
            "Recent success rate (last 100 episodes): 0.97\n",
            "Recent success rate (last 100 episodes): 0.97\n",
            "Recent success rate (last 100 episodes): 0.98\n",
            "Recent success rate (last 100 episodes): 0.98\n",
            "Recent success rate (last 100 episodes): 0.98\n",
            "Recent success rate (last 100 episodes): 0.98\n",
            "Recent success rate (last 100 episodes): 0.98\n",
            "Recent success rate (last 100 episodes): 0.98\n",
            "Recent success rate (last 100 episodes): 0.98\n",
            "Recent success rate (last 100 episodes): 0.98\n",
            "Recent success rate (last 100 episodes): 0.98\n",
            "Recent success rate (last 100 episodes): 0.98\n",
            "Recent success rate (last 100 episodes): 0.98\n",
            "Recent success rate (last 100 episodes): 0.98\n",
            "Recent success rate (last 100 episodes): 0.98\n",
            "Recent success rate (last 100 episodes): 0.98\n",
            "Recent success rate (last 100 episodes): 0.98\n",
            "Recent success rate (last 100 episodes): 0.98\n",
            "Recent success rate (last 100 episodes): 0.98\n"
          ]
        },
        {
          "output_type": "stream",
          "name": "stderr",
          "text": [
            "\rTraining:  30%|██▉       | 298/1000 [00:08<00:06, 116.17it/s]"
          ]
        },
        {
          "output_type": "stream",
          "name": "stdout",
          "text": [
            "Recent success rate (last 100 episodes): 0.98\n",
            "Recent success rate (last 100 episodes): 0.98\n",
            "Recent success rate (last 100 episodes): 0.98\n",
            "Recent success rate (last 100 episodes): 0.98\n",
            "Recent success rate (last 100 episodes): 0.98\n",
            "Recent success rate (last 100 episodes): 0.98\n",
            "Recent success rate (last 100 episodes): 0.98\n",
            "Recent success rate (last 100 episodes): 0.98\n",
            "Recent success rate (last 100 episodes): 0.97\n",
            "Recent success rate (last 100 episodes): 0.98\n",
            "Recent success rate (last 100 episodes): 0.98\n",
            "Recent success rate (last 100 episodes): 0.98\n",
            "Recent success rate (last 100 episodes): 0.98\n",
            "Recent success rate (last 100 episodes): 0.97\n",
            "Recent success rate (last 100 episodes): 0.96\n",
            "Recent success rate (last 100 episodes): 0.96\n"
          ]
        },
        {
          "output_type": "stream",
          "name": "stderr",
          "text": [
            "Training:  32%|███▏      | 322/1000 [00:08<00:06, 99.34it/s]"
          ]
        },
        {
          "output_type": "stream",
          "name": "stdout",
          "text": [
            "Recent success rate (last 100 episodes): 0.96\n",
            "Recent success rate (last 100 episodes): 0.96\n",
            "Recent success rate (last 100 episodes): 0.96\n",
            "Recent success rate (last 100 episodes): 0.96\n",
            "Recent success rate (last 100 episodes): 0.96\n",
            "Recent success rate (last 100 episodes): 0.96\n",
            "Recent success rate (last 100 episodes): 0.96\n",
            "Recent success rate (last 100 episodes): 0.96\n",
            "Recent success rate (last 100 episodes): 0.96\n",
            "Recent success rate (last 100 episodes): 0.96\n",
            "Recent success rate (last 100 episodes): 0.96\n",
            "Recent success rate (last 100 episodes): 0.96\n",
            "Recent success rate (last 100 episodes): 0.96\n",
            "Recent success rate (last 100 episodes): 0.96\n",
            "Recent success rate (last 100 episodes): 0.96\n",
            "Recent success rate (last 100 episodes): 0.97\n",
            "Recent success rate (last 100 episodes): 0.97\n",
            "Recent success rate (last 100 episodes): 0.97\n",
            "Recent success rate (last 100 episodes): 0.97\n",
            "Recent success rate (last 100 episodes): 0.96\n",
            "Recent success rate (last 100 episodes): 0.96\n",
            "Recent success rate (last 100 episodes): 0.96\n",
            "Recent success rate (last 100 episodes): 0.96\n",
            "Recent success rate (last 100 episodes): 0.96\n"
          ]
        },
        {
          "output_type": "stream",
          "name": "stderr",
          "text": [
            "Training:  35%|███▍      | 348/1000 [00:08<00:05, 111.45it/s]"
          ]
        },
        {
          "output_type": "stream",
          "name": "stdout",
          "text": [
            "Recent success rate (last 100 episodes): 0.96\n",
            "Recent success rate (last 100 episodes): 0.96\n",
            "Recent success rate (last 100 episodes): 0.96\n",
            "Recent success rate (last 100 episodes): 0.96\n",
            "Recent success rate (last 100 episodes): 0.96\n",
            "Recent success rate (last 100 episodes): 0.96\n",
            "Recent success rate (last 100 episodes): 0.96\n",
            "Recent success rate (last 100 episodes): 0.96\n",
            "Recent success rate (last 100 episodes): 0.96\n",
            "Recent success rate (last 100 episodes): 0.96\n",
            "Recent success rate (last 100 episodes): 0.96\n",
            "Recent success rate (last 100 episodes): 0.96\n",
            "Recent success rate (last 100 episodes): 0.96\n",
            "Recent success rate (last 100 episodes): 0.96\n",
            "Recent success rate (last 100 episodes): 0.96\n",
            "Recent success rate (last 100 episodes): 0.96\n",
            "Recent success rate (last 100 episodes): 0.96\n",
            "Recent success rate (last 100 episodes): 0.96\n",
            "Recent success rate (last 100 episodes): 0.96\n",
            "Recent success rate (last 100 episodes): 0.96\n",
            "Recent success rate (last 100 episodes): 0.96\n",
            "Recent success rate (last 100 episodes): 0.96\n",
            "Recent success rate (last 100 episodes): 0.96\n",
            "Recent success rate (last 100 episodes): 0.96\n",
            "Recent success rate (last 100 episodes): 0.96\n",
            "Recent success rate (last 100 episodes): 0.96\n"
          ]
        },
        {
          "output_type": "stream",
          "name": "stderr",
          "text": [
            "Training:  37%|███▋      | 372/1000 [00:08<00:05, 108.56it/s]"
          ]
        },
        {
          "output_type": "stream",
          "name": "stdout",
          "text": [
            "Recent success rate (last 100 episodes): 0.96\n",
            "Recent success rate (last 100 episodes): 0.96\n",
            "Recent success rate (last 100 episodes): 0.95\n",
            "Recent success rate (last 100 episodes): 0.95\n",
            "Recent success rate (last 100 episodes): 0.95\n",
            "Recent success rate (last 100 episodes): 0.94\n",
            "Recent success rate (last 100 episodes): 0.94\n",
            "Recent success rate (last 100 episodes): 0.94\n",
            "Recent success rate (last 100 episodes): 0.94\n",
            "Recent success rate (last 100 episodes): 0.94\n",
            "Recent success rate (last 100 episodes): 0.94\n",
            "Recent success rate (last 100 episodes): 0.94\n",
            "Recent success rate (last 100 episodes): 0.94\n",
            "Recent success rate (last 100 episodes): 0.94\n",
            "Recent success rate (last 100 episodes): 0.94\n",
            "Recent success rate (last 100 episodes): 0.94\n",
            "Recent success rate (last 100 episodes): 0.94\n",
            "Recent success rate (last 100 episodes): 0.94\n",
            "Recent success rate (last 100 episodes): 0.94\n",
            "Recent success rate (last 100 episodes): 0.94\n",
            "Recent success rate (last 100 episodes): 0.94\n",
            "Recent success rate (last 100 episodes): 0.94\n",
            "Recent success rate (last 100 episodes): 0.94\n"
          ]
        },
        {
          "output_type": "stream",
          "name": "stderr",
          "text": [
            "Training:  40%|███▉      | 396/1000 [00:09<00:05, 110.78it/s]"
          ]
        },
        {
          "output_type": "stream",
          "name": "stdout",
          "text": [
            "Recent success rate (last 100 episodes): 0.94\n",
            "Recent success rate (last 100 episodes): 0.94\n",
            "Recent success rate (last 100 episodes): 0.94\n",
            "Recent success rate (last 100 episodes): 0.94\n",
            "Recent success rate (last 100 episodes): 0.93\n",
            "Recent success rate (last 100 episodes): 0.93\n",
            "Recent success rate (last 100 episodes): 0.93\n",
            "Recent success rate (last 100 episodes): 0.93\n",
            "Recent success rate (last 100 episodes): 0.93\n",
            "Recent success rate (last 100 episodes): 0.93\n",
            "Recent success rate (last 100 episodes): 0.93\n",
            "Recent success rate (last 100 episodes): 0.93\n",
            "Recent success rate (last 100 episodes): 0.93\n",
            "Recent success rate (last 100 episodes): 0.93\n",
            "Recent success rate (last 100 episodes): 0.93\n",
            "Recent success rate (last 100 episodes): 0.93\n",
            "Recent success rate (last 100 episodes): 0.93\n",
            "Recent success rate (last 100 episodes): 0.92\n",
            "Recent success rate (last 100 episodes): 0.92\n",
            "Recent success rate (last 100 episodes): 0.93\n",
            "Recent success rate (last 100 episodes): 0.93\n",
            "Recent success rate (last 100 episodes): 0.93\n",
            "Recent success rate (last 100 episodes): 0.93\n"
          ]
        },
        {
          "output_type": "stream",
          "name": "stderr",
          "text": [
            "Training:  42%|████▏     | 422/1000 [00:09<00:05, 114.97it/s]"
          ]
        },
        {
          "output_type": "stream",
          "name": "stdout",
          "text": [
            "Recent success rate (last 100 episodes): 0.93\n",
            "Recent success rate (last 100 episodes): 0.94\n",
            "Recent success rate (last 100 episodes): 0.95\n",
            "Recent success rate (last 100 episodes): 0.94\n",
            "Recent success rate (last 100 episodes): 0.94\n",
            "Recent success rate (last 100 episodes): 0.94\n",
            "Recent success rate (last 100 episodes): 0.94\n",
            "Recent success rate (last 100 episodes): 0.93\n",
            "Recent success rate (last 100 episodes): 0.93\n",
            "Recent success rate (last 100 episodes): 0.93\n",
            "Recent success rate (last 100 episodes): 0.93\n",
            "Recent success rate (last 100 episodes): 0.93\n",
            "Recent success rate (last 100 episodes): 0.93\n",
            "Recent success rate (last 100 episodes): 0.93\n",
            "Recent success rate (last 100 episodes): 0.93\n",
            "Recent success rate (last 100 episodes): 0.93\n",
            "Recent success rate (last 100 episodes): 0.93\n",
            "Recent success rate (last 100 episodes): 0.93\n",
            "Recent success rate (last 100 episodes): 0.93\n",
            "Recent success rate (last 100 episodes): 0.92\n",
            "Recent success rate (last 100 episodes): 0.92\n",
            "Recent success rate (last 100 episodes): 0.92\n",
            "Recent success rate (last 100 episodes): 0.92\n",
            "Recent success rate (last 100 episodes): 0.93\n"
          ]
        },
        {
          "output_type": "stream",
          "name": "stderr",
          "text": [
            "Training:  45%|████▍     | 447/1000 [00:09<00:04, 116.89it/s]"
          ]
        },
        {
          "output_type": "stream",
          "name": "stdout",
          "text": [
            "Recent success rate (last 100 episodes): 0.93\n",
            "Recent success rate (last 100 episodes): 0.93\n",
            "Recent success rate (last 100 episodes): 0.93\n",
            "Recent success rate (last 100 episodes): 0.93\n",
            "Recent success rate (last 100 episodes): 0.93\n",
            "Recent success rate (last 100 episodes): 0.93\n",
            "Recent success rate (last 100 episodes): 0.93\n",
            "Recent success rate (last 100 episodes): 0.93\n",
            "Recent success rate (last 100 episodes): 0.93\n",
            "Recent success rate (last 100 episodes): 0.93\n",
            "Recent success rate (last 100 episodes): 0.93\n",
            "Recent success rate (last 100 episodes): 0.93\n",
            "Recent success rate (last 100 episodes): 0.93\n",
            "Recent success rate (last 100 episodes): 0.93\n",
            "Recent success rate (last 100 episodes): 0.93\n",
            "Recent success rate (last 100 episodes): 0.93\n",
            "Recent success rate (last 100 episodes): 0.93\n",
            "Recent success rate (last 100 episodes): 0.93\n",
            "Recent success rate (last 100 episodes): 0.93\n",
            "Recent success rate (last 100 episodes): 0.93\n",
            "Recent success rate (last 100 episodes): 0.93\n",
            "Recent success rate (last 100 episodes): 0.93\n",
            "Recent success rate (last 100 episodes): 0.93\n",
            "Recent success rate (last 100 episodes): 0.93\n"
          ]
        },
        {
          "output_type": "stream",
          "name": "stderr",
          "text": [
            "\rTraining:  46%|████▌     | 459/1000 [00:09<00:04, 114.42it/s]"
          ]
        },
        {
          "output_type": "stream",
          "name": "stdout",
          "text": [
            "Recent success rate (last 100 episodes): 0.93\n",
            "Recent success rate (last 100 episodes): 0.93\n",
            "Recent success rate (last 100 episodes): 0.93\n",
            "Recent success rate (last 100 episodes): 0.93\n",
            "Recent success rate (last 100 episodes): 0.93\n",
            "Recent success rate (last 100 episodes): 0.93\n",
            "Recent success rate (last 100 episodes): 0.93\n",
            "Recent success rate (last 100 episodes): 0.93\n",
            "Recent success rate (last 100 episodes): 0.94\n",
            "Recent success rate (last 100 episodes): 0.94\n",
            "Recent success rate (last 100 episodes): 0.94\n",
            "Recent success rate (last 100 episodes): 0.95\n",
            "Recent success rate (last 100 episodes): 0.95\n",
            "Recent success rate (last 100 episodes): 0.95\n",
            "Recent success rate (last 100 episodes): 0.95\n",
            "Recent success rate (last 100 episodes): 0.95\n",
            "Recent success rate (last 100 episodes): 0.95\n",
            "Recent success rate (last 100 episodes): 0.95\n",
            "Recent success rate (last 100 episodes): 0.95\n",
            "Recent success rate (last 100 episodes): 0.95\n",
            "Recent success rate (last 100 episodes): 0.95\n",
            "Recent success rate (last 100 episodes): 0.95\n"
          ]
        },
        {
          "output_type": "stream",
          "name": "stderr",
          "text": [
            "Training:  48%|████▊     | 484/1000 [00:09<00:04, 113.00it/s]"
          ]
        },
        {
          "output_type": "stream",
          "name": "stdout",
          "text": [
            "Recent success rate (last 100 episodes): 0.95\n",
            "Recent success rate (last 100 episodes): 0.95\n",
            "Recent success rate (last 100 episodes): 0.95\n",
            "Recent success rate (last 100 episodes): 0.95\n",
            "Recent success rate (last 100 episodes): 0.95\n",
            "Recent success rate (last 100 episodes): 0.95\n",
            "Recent success rate (last 100 episodes): 0.95\n",
            "Recent success rate (last 100 episodes): 0.95\n",
            "Recent success rate (last 100 episodes): 0.95\n",
            "Recent success rate (last 100 episodes): 0.95\n",
            "Recent success rate (last 100 episodes): 0.95\n",
            "Recent success rate (last 100 episodes): 0.96\n",
            "Recent success rate (last 100 episodes): 0.96\n",
            "Recent success rate (last 100 episodes): 0.96\n",
            "Recent success rate (last 100 episodes): 0.96\n",
            "Recent success rate (last 100 episodes): 0.96\n",
            "Recent success rate (last 100 episodes): 0.96\n",
            "Recent success rate (last 100 episodes): 0.96\n",
            "Recent success rate (last 100 episodes): 0.96\n",
            "Recent success rate (last 100 episodes): 0.96\n",
            "Recent success rate (last 100 episodes): 0.96\n",
            "Recent success rate (last 100 episodes): 0.96\n",
            "Recent success rate (last 100 episodes): 0.96\n"
          ]
        },
        {
          "output_type": "stream",
          "name": "stderr",
          "text": [
            "Training:  51%|█████     | 507/1000 [00:10<00:04, 100.63it/s]"
          ]
        },
        {
          "output_type": "stream",
          "name": "stdout",
          "text": [
            "Recent success rate (last 100 episodes): 0.96\n",
            "Recent success rate (last 100 episodes): 0.97\n",
            "Recent success rate (last 100 episodes): 0.97\n",
            "Recent success rate (last 100 episodes): 0.97\n",
            "Recent success rate (last 100 episodes): 0.97\n",
            "Recent success rate (last 100 episodes): 0.96\n",
            "Recent success rate (last 100 episodes): 0.96\n",
            "Recent success rate (last 100 episodes): 0.96\n",
            "Recent success rate (last 100 episodes): 0.96\n",
            "Recent success rate (last 100 episodes): 0.96\n",
            "Recent success rate (last 100 episodes): 0.97\n",
            "Recent success rate (last 100 episodes): 0.97\n",
            "Recent success rate (last 100 episodes): 0.96\n",
            "Recent success rate (last 100 episodes): 0.96\n",
            "Recent success rate (last 100 episodes): 0.97\n",
            "Recent success rate (last 100 episodes): 0.96\n",
            "Recent success rate (last 100 episodes): 0.95\n",
            "Recent success rate (last 100 episodes): 0.95\n"
          ]
        },
        {
          "output_type": "stream",
          "name": "stderr",
          "text": [
            "Training:  53%|█████▎    | 531/1000 [00:10<00:04, 103.65it/s]"
          ]
        },
        {
          "output_type": "stream",
          "name": "stdout",
          "text": [
            "Recent success rate (last 100 episodes): 0.95\n",
            "Recent success rate (last 100 episodes): 0.95\n",
            "Recent success rate (last 100 episodes): 0.95\n",
            "Recent success rate (last 100 episodes): 0.94\n",
            "Recent success rate (last 100 episodes): 0.94\n",
            "Recent success rate (last 100 episodes): 0.94\n",
            "Recent success rate (last 100 episodes): 0.94\n",
            "Recent success rate (last 100 episodes): 0.94\n",
            "Recent success rate (last 100 episodes): 0.95\n",
            "Recent success rate (last 100 episodes): 0.95\n",
            "Recent success rate (last 100 episodes): 0.95\n",
            "Recent success rate (last 100 episodes): 0.95\n",
            "Recent success rate (last 100 episodes): 0.95\n",
            "Recent success rate (last 100 episodes): 0.95\n",
            "Recent success rate (last 100 episodes): 0.95\n",
            "Recent success rate (last 100 episodes): 0.95\n",
            "Recent success rate (last 100 episodes): 0.95\n",
            "Recent success rate (last 100 episodes): 0.95\n",
            "Recent success rate (last 100 episodes): 0.95\n",
            "Recent success rate (last 100 episodes): 0.95\n",
            "Recent success rate (last 100 episodes): 0.95\n"
          ]
        },
        {
          "output_type": "stream",
          "name": "stderr",
          "text": [
            "\rTraining:  54%|█████▍    | 542/1000 [00:10<00:04, 96.95it/s] "
          ]
        },
        {
          "output_type": "stream",
          "name": "stdout",
          "text": [
            "Recent success rate (last 100 episodes): 0.95\n",
            "Recent success rate (last 100 episodes): 0.95\n",
            "Recent success rate (last 100 episodes): 0.95\n",
            "Recent success rate (last 100 episodes): 0.95\n",
            "Recent success rate (last 100 episodes): 0.95\n",
            "Recent success rate (last 100 episodes): 0.95\n",
            "Recent success rate (last 100 episodes): 0.95\n",
            "Recent success rate (last 100 episodes): 0.95\n",
            "Recent success rate (last 100 episodes): 0.95\n",
            "Recent success rate (last 100 episodes): 0.95\n",
            "Recent success rate (last 100 episodes): 0.95\n",
            "Recent success rate (last 100 episodes): 0.95\n",
            "Recent success rate (last 100 episodes): 0.95\n",
            "Recent success rate (last 100 episodes): 0.95\n",
            "Recent success rate (last 100 episodes): 0.95\n",
            "Recent success rate (last 100 episodes): 0.95\n",
            "Recent success rate (last 100 episodes): 0.95\n",
            "Recent success rate (last 100 episodes): 0.95\n",
            "Recent success rate (last 100 episodes): 0.95\n"
          ]
        },
        {
          "output_type": "stream",
          "name": "stderr",
          "text": [
            "Training:  57%|█████▋    | 566/1000 [00:10<00:04, 105.97it/s]"
          ]
        },
        {
          "output_type": "stream",
          "name": "stdout",
          "text": [
            "Recent success rate (last 100 episodes): 0.95\n",
            "Recent success rate (last 100 episodes): 0.95\n",
            "Recent success rate (last 100 episodes): 0.95\n",
            "Recent success rate (last 100 episodes): 0.95\n",
            "Recent success rate (last 100 episodes): 0.95\n",
            "Recent success rate (last 100 episodes): 0.94\n",
            "Recent success rate (last 100 episodes): 0.94\n",
            "Recent success rate (last 100 episodes): 0.94\n",
            "Recent success rate (last 100 episodes): 0.94\n",
            "Recent success rate (last 100 episodes): 0.94\n",
            "Recent success rate (last 100 episodes): 0.94\n",
            "Recent success rate (last 100 episodes): 0.94\n",
            "Recent success rate (last 100 episodes): 0.94\n",
            "Recent success rate (last 100 episodes): 0.94\n",
            "Recent success rate (last 100 episodes): 0.94\n",
            "Recent success rate (last 100 episodes): 0.94\n",
            "Recent success rate (last 100 episodes): 0.94\n",
            "Recent success rate (last 100 episodes): 0.94\n",
            "Recent success rate (last 100 episodes): 0.94\n",
            "Recent success rate (last 100 episodes): 0.94\n",
            "Recent success rate (last 100 episodes): 0.94\n",
            "Recent success rate (last 100 episodes): 0.94\n",
            "Recent success rate (last 100 episodes): 0.94\n",
            "Recent success rate (last 100 episodes): 0.94\n"
          ]
        },
        {
          "output_type": "stream",
          "name": "stderr",
          "text": [
            "Training:  59%|█████▉    | 590/1000 [00:10<00:03, 110.93it/s]"
          ]
        },
        {
          "output_type": "stream",
          "name": "stdout",
          "text": [
            "Recent success rate (last 100 episodes): 0.94\n",
            "Recent success rate (last 100 episodes): 0.94\n",
            "Recent success rate (last 100 episodes): 0.94\n",
            "Recent success rate (last 100 episodes): 0.94\n",
            "Recent success rate (last 100 episodes): 0.94\n",
            "Recent success rate (last 100 episodes): 0.94\n",
            "Recent success rate (last 100 episodes): 0.94\n",
            "Recent success rate (last 100 episodes): 0.94\n",
            "Recent success rate (last 100 episodes): 0.93\n",
            "Recent success rate (last 100 episodes): 0.93\n",
            "Recent success rate (last 100 episodes): 0.93\n",
            "Recent success rate (last 100 episodes): 0.93\n",
            "Recent success rate (last 100 episodes): 0.93\n",
            "Recent success rate (last 100 episodes): 0.93\n",
            "Recent success rate (last 100 episodes): 0.93\n",
            "Recent success rate (last 100 episodes): 0.93\n",
            "Recent success rate (last 100 episodes): 0.93\n",
            "Recent success rate (last 100 episodes): 0.93\n",
            "Recent success rate (last 100 episodes): 0.93\n",
            "Recent success rate (last 100 episodes): 0.93\n",
            "Recent success rate (last 100 episodes): 0.93\n",
            "Recent success rate (last 100 episodes): 0.93\n"
          ]
        },
        {
          "output_type": "stream",
          "name": "stderr",
          "text": [
            "Training:  61%|██████▏   | 613/1000 [00:11<00:03, 104.12it/s]"
          ]
        },
        {
          "output_type": "stream",
          "name": "stdout",
          "text": [
            "Recent success rate (last 100 episodes): 0.93\n",
            "Recent success rate (last 100 episodes): 0.94\n",
            "Recent success rate (last 100 episodes): 0.94\n",
            "Recent success rate (last 100 episodes): 0.94\n",
            "Recent success rate (last 100 episodes): 0.93\n",
            "Recent success rate (last 100 episodes): 0.93\n",
            "Recent success rate (last 100 episodes): 0.93\n",
            "Recent success rate (last 100 episodes): 0.93\n",
            "Recent success rate (last 100 episodes): 0.94\n",
            "Recent success rate (last 100 episodes): 0.94\n",
            "Recent success rate (last 100 episodes): 0.94\n",
            "Recent success rate (last 100 episodes): 0.95\n",
            "Recent success rate (last 100 episodes): 0.96\n",
            "Recent success rate (last 100 episodes): 0.96\n",
            "Recent success rate (last 100 episodes): 0.96\n",
            "Recent success rate (last 100 episodes): 0.96\n",
            "Recent success rate (last 100 episodes): 0.95\n",
            "Recent success rate (last 100 episodes): 0.96\n",
            "Recent success rate (last 100 episodes): 0.96\n",
            "Recent success rate (last 100 episodes): 0.96\n",
            "Recent success rate (last 100 episodes): 0.96\n",
            "Recent success rate (last 100 episodes): 0.96\n"
          ]
        },
        {
          "output_type": "stream",
          "name": "stderr",
          "text": [
            "Training:  64%|██████▎   | 636/1000 [00:11<00:03, 101.87it/s]"
          ]
        },
        {
          "output_type": "stream",
          "name": "stdout",
          "text": [
            "Recent success rate (last 100 episodes): 0.96\n",
            "Recent success rate (last 100 episodes): 0.96\n",
            "Recent success rate (last 100 episodes): 0.96\n",
            "Recent success rate (last 100 episodes): 0.96\n",
            "Recent success rate (last 100 episodes): 0.96\n",
            "Recent success rate (last 100 episodes): 0.96\n",
            "Recent success rate (last 100 episodes): 0.96\n",
            "Recent success rate (last 100 episodes): 0.96\n",
            "Recent success rate (last 100 episodes): 0.96\n",
            "Recent success rate (last 100 episodes): 0.96\n",
            "Recent success rate (last 100 episodes): 0.96\n",
            "Recent success rate (last 100 episodes): 0.96\n",
            "Recent success rate (last 100 episodes): 0.96\n",
            "Recent success rate (last 100 episodes): 0.96\n",
            "Recent success rate (last 100 episodes): 0.96\n",
            "Recent success rate (last 100 episodes): 0.96\n",
            "Recent success rate (last 100 episodes): 0.96\n",
            "Recent success rate (last 100 episodes): 0.96\n",
            "Recent success rate (last 100 episodes): 0.96\n",
            "Recent success rate (last 100 episodes): 0.96\n",
            "Recent success rate (last 100 episodes): 0.96\n"
          ]
        },
        {
          "output_type": "stream",
          "name": "stderr",
          "text": [
            "Training:  66%|██████▌   | 659/1000 [00:11<00:03, 105.88it/s]"
          ]
        },
        {
          "output_type": "stream",
          "name": "stdout",
          "text": [
            "Recent success rate (last 100 episodes): 0.96\n",
            "Recent success rate (last 100 episodes): 0.96\n",
            "Recent success rate (last 100 episodes): 0.96\n",
            "Recent success rate (last 100 episodes): 0.96\n",
            "Recent success rate (last 100 episodes): 0.96\n",
            "Recent success rate (last 100 episodes): 0.96\n",
            "Recent success rate (last 100 episodes): 0.96\n",
            "Recent success rate (last 100 episodes): 0.96\n",
            "Recent success rate (last 100 episodes): 0.96\n",
            "Recent success rate (last 100 episodes): 0.96\n",
            "Recent success rate (last 100 episodes): 0.96\n",
            "Recent success rate (last 100 episodes): 0.96\n",
            "Recent success rate (last 100 episodes): 0.96\n",
            "Recent success rate (last 100 episodes): 0.96\n",
            "Recent success rate (last 100 episodes): 0.96\n",
            "Recent success rate (last 100 episodes): 0.96\n",
            "Recent success rate (last 100 episodes): 0.97\n",
            "Recent success rate (last 100 episodes): 0.97\n",
            "Recent success rate (last 100 episodes): 0.97\n",
            "Recent success rate (last 100 episodes): 0.97\n"
          ]
        },
        {
          "output_type": "stream",
          "name": "stderr",
          "text": [
            "Training:  68%|██████▊   | 683/1000 [00:11<00:02, 107.84it/s]"
          ]
        },
        {
          "output_type": "stream",
          "name": "stdout",
          "text": [
            "Recent success rate (last 100 episodes): 0.97\n",
            "Recent success rate (last 100 episodes): 0.97\n",
            "Recent success rate (last 100 episodes): 0.97\n",
            "Recent success rate (last 100 episodes): 0.97\n",
            "Recent success rate (last 100 episodes): 0.97\n",
            "Recent success rate (last 100 episodes): 0.97\n",
            "Recent success rate (last 100 episodes): 0.97\n",
            "Recent success rate (last 100 episodes): 0.97\n",
            "Recent success rate (last 100 episodes): 0.97\n",
            "Recent success rate (last 100 episodes): 0.97\n",
            "Recent success rate (last 100 episodes): 0.97\n",
            "Recent success rate (last 100 episodes): 0.97\n",
            "Recent success rate (last 100 episodes): 0.97\n",
            "Recent success rate (last 100 episodes): 0.97\n",
            "Recent success rate (last 100 episodes): 0.97\n",
            "Recent success rate (last 100 episodes): 0.97\n",
            "Recent success rate (last 100 episodes): 0.97\n",
            "Recent success rate (last 100 episodes): 0.97\n",
            "Recent success rate (last 100 episodes): 0.97\n",
            "Recent success rate (last 100 episodes): 0.97\n",
            "Recent success rate (last 100 episodes): 0.97\n",
            "Recent success rate (last 100 episodes): 0.97\n",
            "Recent success rate (last 100 episodes): 0.97\n"
          ]
        },
        {
          "output_type": "stream",
          "name": "stderr",
          "text": [
            "\rTraining:  69%|██████▉   | 694/1000 [00:11<00:02, 104.91it/s]"
          ]
        },
        {
          "output_type": "stream",
          "name": "stdout",
          "text": [
            "Recent success rate (last 100 episodes): 0.98\n",
            "Recent success rate (last 100 episodes): 0.98\n",
            "Recent success rate (last 100 episodes): 0.98\n",
            "Recent success rate (last 100 episodes): 0.98\n",
            "Recent success rate (last 100 episodes): 0.98\n",
            "Recent success rate (last 100 episodes): 0.98\n",
            "Recent success rate (last 100 episodes): 0.98\n",
            "Recent success rate (last 100 episodes): 0.98\n",
            "Recent success rate (last 100 episodes): 0.98\n",
            "Recent success rate (last 100 episodes): 0.98\n",
            "Recent success rate (last 100 episodes): 0.98\n",
            "Recent success rate (last 100 episodes): 0.98\n",
            "Recent success rate (last 100 episodes): 0.98\n",
            "Recent success rate (last 100 episodes): 0.98\n",
            "Recent success rate (last 100 episodes): 0.98\n",
            "Recent success rate (last 100 episodes): 0.98\n",
            "Recent success rate (last 100 episodes): 0.98\n",
            "Recent success rate (last 100 episodes): 0.98\n",
            "Recent success rate (last 100 episodes): 0.99\n"
          ]
        },
        {
          "output_type": "stream",
          "name": "stderr",
          "text": [
            "Training:  72%|███████▏  | 715/1000 [00:12<00:03, 92.48it/s]"
          ]
        },
        {
          "output_type": "stream",
          "name": "stdout",
          "text": [
            "Recent success rate (last 100 episodes): 0.99\n",
            "Recent success rate (last 100 episodes): 0.99\n",
            "Recent success rate (last 100 episodes): 0.99\n",
            "Recent success rate (last 100 episodes): 0.99\n",
            "Recent success rate (last 100 episodes): 0.99\n",
            "Recent success rate (last 100 episodes): 0.98\n",
            "Recent success rate (last 100 episodes): 0.98\n",
            "Recent success rate (last 100 episodes): 0.98\n",
            "Recent success rate (last 100 episodes): 0.98\n",
            "Recent success rate (last 100 episodes): 0.98\n",
            "Recent success rate (last 100 episodes): 0.98\n",
            "Recent success rate (last 100 episodes): 0.99\n",
            "Recent success rate (last 100 episodes): 0.99\n",
            "Recent success rate (last 100 episodes): 0.99\n",
            "Recent success rate (last 100 episodes): 0.99\n",
            "Recent success rate (last 100 episodes): 0.99\n",
            "Recent success rate (last 100 episodes): 0.99\n",
            "Recent success rate (last 100 episodes): 0.99\n",
            "Recent success rate (last 100 episodes): 0.99\n"
          ]
        },
        {
          "output_type": "stream",
          "name": "stderr",
          "text": [
            "Training:  74%|███████▎  | 735/1000 [00:12<00:02, 91.19it/s]"
          ]
        },
        {
          "output_type": "stream",
          "name": "stdout",
          "text": [
            "Recent success rate (last 100 episodes): 0.99\n",
            "Recent success rate (last 100 episodes): 0.99\n",
            "Recent success rate (last 100 episodes): 0.99\n",
            "Recent success rate (last 100 episodes): 0.99\n",
            "Recent success rate (last 100 episodes): 0.99\n",
            "Recent success rate (last 100 episodes): 0.99\n",
            "Recent success rate (last 100 episodes): 0.99\n",
            "Recent success rate (last 100 episodes): 0.99\n",
            "Recent success rate (last 100 episodes): 0.99\n",
            "Recent success rate (last 100 episodes): 0.99\n",
            "Recent success rate (last 100 episodes): 0.99\n",
            "Recent success rate (last 100 episodes): 0.99\n",
            "Recent success rate (last 100 episodes): 0.99\n",
            "Recent success rate (last 100 episodes): 0.99\n",
            "Recent success rate (last 100 episodes): 0.99\n",
            "Recent success rate (last 100 episodes): 0.99\n",
            "Recent success rate (last 100 episodes): 0.99\n",
            "Recent success rate (last 100 episodes): 0.99\n",
            "Recent success rate (last 100 episodes): 0.99\n",
            "Recent success rate (last 100 episodes): 0.99\n",
            "Recent success rate (last 100 episodes): 0.99\n"
          ]
        },
        {
          "output_type": "stream",
          "name": "stderr",
          "text": [
            "\rTraining:  75%|███████▍  | 749/1000 [00:12<00:02, 102.84it/s]"
          ]
        },
        {
          "output_type": "stream",
          "name": "stdout",
          "text": [
            "Recent success rate (last 100 episodes): 0.99\n",
            "Recent success rate (last 100 episodes): 0.99\n",
            "Recent success rate (last 100 episodes): 0.99\n",
            "Recent success rate (last 100 episodes): 0.98\n",
            "Recent success rate (last 100 episodes): 0.98\n",
            "Recent success rate (last 100 episodes): 0.98\n",
            "Recent success rate (last 100 episodes): 0.98\n",
            "Recent success rate (last 100 episodes): 0.98\n",
            "Recent success rate (last 100 episodes): 0.98\n",
            "Recent success rate (last 100 episodes): 0.98\n",
            "Recent success rate (last 100 episodes): 0.98\n",
            "Recent success rate (last 100 episodes): 0.98\n",
            "Recent success rate (last 100 episodes): 0.98\n",
            "Recent success rate (last 100 episodes): 0.98\n",
            "Recent success rate (last 100 episodes): 0.98\n"
          ]
        },
        {
          "output_type": "stream",
          "name": "stderr",
          "text": [
            "Training:  77%|███████▋  | 769/1000 [00:12<00:03, 69.09it/s]"
          ]
        },
        {
          "output_type": "stream",
          "name": "stdout",
          "text": [
            "Recent success rate (last 100 episodes): 0.97\n",
            "Recent success rate (last 100 episodes): 0.96\n",
            "Recent success rate (last 100 episodes): 0.95\n",
            "Recent success rate (last 100 episodes): 0.94\n",
            "Recent success rate (last 100 episodes): 0.94\n",
            "Recent success rate (last 100 episodes): 0.93\n",
            "Recent success rate (last 100 episodes): 0.93\n",
            "Recent success rate (last 100 episodes): 0.93\n",
            "Recent success rate (last 100 episodes): 0.93\n",
            "Recent success rate (last 100 episodes): 0.93\n",
            "Recent success rate (last 100 episodes): 0.93\n",
            "Recent success rate (last 100 episodes): 0.93\n",
            "Recent success rate (last 100 episodes): 0.93\n"
          ]
        },
        {
          "output_type": "stream",
          "name": "stderr",
          "text": [
            "\rTraining:  78%|███████▊  | 777/1000 [00:13<00:03, 56.64it/s]"
          ]
        },
        {
          "output_type": "stream",
          "name": "stdout",
          "text": [
            "Recent success rate (last 100 episodes): 0.93\n",
            "Recent success rate (last 100 episodes): 0.93\n",
            "Recent success rate (last 100 episodes): 0.93\n",
            "Recent success rate (last 100 episodes): 0.93\n",
            "Recent success rate (last 100 episodes): 0.93\n",
            "Recent success rate (last 100 episodes): 0.92\n",
            "Recent success rate (last 100 episodes): 0.92\n"
          ]
        },
        {
          "output_type": "stream",
          "name": "stderr",
          "text": [
            "Training:  79%|███████▉  | 791/1000 [00:13<00:03, 55.66it/s]"
          ]
        },
        {
          "output_type": "stream",
          "name": "stdout",
          "text": [
            "Recent success rate (last 100 episodes): 0.92\n",
            "Recent success rate (last 100 episodes): 0.92\n",
            "Recent success rate (last 100 episodes): 0.92\n",
            "Recent success rate (last 100 episodes): 0.92\n",
            "Recent success rate (last 100 episodes): 0.91\n",
            "Recent success rate (last 100 episodes): 0.91\n",
            "Recent success rate (last 100 episodes): 0.91\n",
            "Recent success rate (last 100 episodes): 0.90\n",
            "Recent success rate (last 100 episodes): 0.90\n",
            "Recent success rate (last 100 episodes): 0.90\n",
            "Recent success rate (last 100 episodes): 0.90\n",
            "Recent success rate (last 100 episodes): 0.90\n",
            "Recent success rate (last 100 episodes): 0.90\n"
          ]
        },
        {
          "output_type": "stream",
          "name": "stderr",
          "text": [
            "\rTraining:  80%|████████  | 800/1000 [00:13<00:03, 62.56it/s]"
          ]
        },
        {
          "output_type": "stream",
          "name": "stdout",
          "text": [
            "Recent success rate (last 100 episodes): 0.90\n",
            "Recent success rate (last 100 episodes): 0.90\n",
            "Recent success rate (last 100 episodes): 0.90\n",
            "Recent success rate (last 100 episodes): 0.90\n",
            "Recent success rate (last 100 episodes): 0.90\n",
            "Recent success rate (last 100 episodes): 0.90\n",
            "Recent success rate (last 100 episodes): 0.90\n",
            "Recent success rate (last 100 episodes): 0.90\n",
            "Recent success rate (last 100 episodes): 0.90\n",
            "Recent success rate (last 100 episodes): 0.90\n",
            "Recent success rate (last 100 episodes): 0.90\n"
          ]
        },
        {
          "output_type": "stream",
          "name": "stderr",
          "text": [
            "Training:  81%|████████▏ | 814/1000 [00:13<00:03, 52.74it/s]"
          ]
        },
        {
          "output_type": "stream",
          "name": "stdout",
          "text": [
            "Recent success rate (last 100 episodes): 0.90\n",
            "Recent success rate (last 100 episodes): 0.90\n",
            "Recent success rate (last 100 episodes): 0.90\n",
            "Recent success rate (last 100 episodes): 0.90\n",
            "Recent success rate (last 100 episodes): 0.90\n",
            "Recent success rate (last 100 episodes): 0.90\n",
            "Recent success rate (last 100 episodes): 0.91\n",
            "Recent success rate (last 100 episodes): 0.91\n",
            "Recent success rate (last 100 episodes): 0.91\n",
            "Recent success rate (last 100 episodes): 0.91\n",
            "Recent success rate (last 100 episodes): 0.91\n",
            "Recent success rate (last 100 episodes): 0.91\n"
          ]
        },
        {
          "output_type": "stream",
          "name": "stderr",
          "text": [
            "\rTraining:  82%|████████▏ | 821/1000 [00:13<00:03, 56.56it/s]"
          ]
        },
        {
          "output_type": "stream",
          "name": "stdout",
          "text": [
            "Recent success rate (last 100 episodes): 0.91\n",
            "Recent success rate (last 100 episodes): 0.91\n",
            "Recent success rate (last 100 episodes): 0.91\n",
            "Recent success rate (last 100 episodes): 0.91\n",
            "Recent success rate (last 100 episodes): 0.91\n",
            "Recent success rate (last 100 episodes): 0.91\n",
            "Recent success rate (last 100 episodes): 0.91\n",
            "Recent success rate (last 100 episodes): 0.91\n",
            "Recent success rate (last 100 episodes): 0.91\n",
            "Recent success rate (last 100 episodes): 0.91\n",
            "Recent success rate (last 100 episodes): 0.91\n",
            "Recent success rate (last 100 episodes): 0.91\n",
            "Recent success rate (last 100 episodes): 0.91\n"
          ]
        },
        {
          "output_type": "stream",
          "name": "stderr",
          "text": [
            "Training:  84%|████████▍ | 838/1000 [00:14<00:02, 66.84it/s]"
          ]
        },
        {
          "output_type": "stream",
          "name": "stdout",
          "text": [
            "Recent success rate (last 100 episodes): 0.91\n",
            "Recent success rate (last 100 episodes): 0.91\n",
            "Recent success rate (last 100 episodes): 0.91\n",
            "Recent success rate (last 100 episodes): 0.91\n",
            "Recent success rate (last 100 episodes): 0.91\n",
            "Recent success rate (last 100 episodes): 0.91\n",
            "Recent success rate (last 100 episodes): 0.91\n",
            "Recent success rate (last 100 episodes): 0.91\n",
            "Recent success rate (last 100 episodes): 0.91\n",
            "Recent success rate (last 100 episodes): 0.91\n",
            "Recent success rate (last 100 episodes): 0.91\n",
            "Recent success rate (last 100 episodes): 0.91\n",
            "Recent success rate (last 100 episodes): 0.91\n",
            "Recent success rate (last 100 episodes): 0.91\n",
            "Recent success rate (last 100 episodes): 0.91\n",
            "Recent success rate (last 100 episodes): 0.90\n",
            "Recent success rate (last 100 episodes): 0.90\n",
            "Recent success rate (last 100 episodes): 0.90\n"
          ]
        },
        {
          "output_type": "stream",
          "name": "stderr",
          "text": [
            "Training:  85%|████████▌ | 854/1000 [00:14<00:02, 69.88it/s]"
          ]
        },
        {
          "output_type": "stream",
          "name": "stdout",
          "text": [
            "Recent success rate (last 100 episodes): 0.90\n",
            "Recent success rate (last 100 episodes): 0.91\n",
            "Recent success rate (last 100 episodes): 0.90\n",
            "Recent success rate (last 100 episodes): 0.90\n",
            "Recent success rate (last 100 episodes): 0.90\n",
            "Recent success rate (last 100 episodes): 0.90\n",
            "Recent success rate (last 100 episodes): 0.90\n",
            "Recent success rate (last 100 episodes): 0.90\n",
            "Recent success rate (last 100 episodes): 0.90\n",
            "Recent success rate (last 100 episodes): 0.90\n",
            "Recent success rate (last 100 episodes): 0.90\n",
            "Recent success rate (last 100 episodes): 0.90\n",
            "Recent success rate (last 100 episodes): 0.90\n",
            "Recent success rate (last 100 episodes): 0.91\n",
            "Recent success rate (last 100 episodes): 0.91\n",
            "Recent success rate (last 100 episodes): 0.91\n"
          ]
        },
        {
          "output_type": "stream",
          "name": "stderr",
          "text": [
            "\rTraining:  86%|████████▌ | 862/1000 [00:14<00:02, 64.08it/s]"
          ]
        },
        {
          "output_type": "stream",
          "name": "stdout",
          "text": [
            "Recent success rate (last 100 episodes): 0.91\n",
            "Recent success rate (last 100 episodes): 0.91\n",
            "Recent success rate (last 100 episodes): 0.92\n"
          ]
        },
        {
          "output_type": "stream",
          "name": "stderr",
          "text": [
            "\rTraining:  87%|████████▋ | 869/1000 [00:14<00:02, 45.26it/s]"
          ]
        },
        {
          "output_type": "stream",
          "name": "stdout",
          "text": [
            "Recent success rate (last 100 episodes): 0.92\n",
            "Recent success rate (last 100 episodes): 0.92\n",
            "Recent success rate (last 100 episodes): 0.92\n",
            "Recent success rate (last 100 episodes): 0.92\n",
            "Recent success rate (last 100 episodes): 0.92\n",
            "Recent success rate (last 100 episodes): 0.91\n",
            "Recent success rate (last 100 episodes): 0.90\n",
            "Recent success rate (last 100 episodes): 0.90\n",
            "Recent success rate (last 100 episodes): 0.90\n"
          ]
        },
        {
          "output_type": "stream",
          "name": "stderr",
          "text": [
            "\rTraining:  88%|████████▊ | 875/1000 [00:14<00:03, 37.91it/s]"
          ]
        },
        {
          "output_type": "stream",
          "name": "stdout",
          "text": [
            "Recent success rate (last 100 episodes): 0.89\n",
            "Recent success rate (last 100 episodes): 0.88\n"
          ]
        },
        {
          "output_type": "stream",
          "name": "stderr",
          "text": [
            "\rTraining:  88%|████████▊ | 880/1000 [00:15<00:03, 30.76it/s]"
          ]
        },
        {
          "output_type": "stream",
          "name": "stdout",
          "text": [
            "Recent success rate (last 100 episodes): 0.87\n",
            "Recent success rate (last 100 episodes): 0.88\n",
            "Recent success rate (last 100 episodes): 0.88\n",
            "Recent success rate (last 100 episodes): 0.87\n",
            "Recent success rate (last 100 episodes): 0.87\n",
            "Recent success rate (last 100 episodes): 0.87\n",
            "Recent success rate (last 100 episodes): 0.87\n",
            "Recent success rate (last 100 episodes): 0.88\n",
            "Recent success rate (last 100 episodes): 0.88\n",
            "Recent success rate (last 100 episodes): 0.88\n",
            "Recent success rate (last 100 episodes): 0.89\n"
          ]
        },
        {
          "output_type": "stream",
          "name": "stderr",
          "text": [
            "\rTraining:  89%|████████▉ | 891/1000 [00:15<00:02, 43.87it/s]"
          ]
        },
        {
          "output_type": "stream",
          "name": "stdout",
          "text": [
            "Recent success rate (last 100 episodes): 0.89\n",
            "Recent success rate (last 100 episodes): 0.89\n",
            "Recent success rate (last 100 episodes): 0.89\n",
            "Recent success rate (last 100 episodes): 0.89\n",
            "Recent success rate (last 100 episodes): 0.89\n",
            "Recent success rate (last 100 episodes): 0.89\n",
            "Recent success rate (last 100 episodes): 0.89\n",
            "Recent success rate (last 100 episodes): 0.89\n",
            "Recent success rate (last 100 episodes): 0.89\n",
            "Recent success rate (last 100 episodes): 0.89\n"
          ]
        },
        {
          "output_type": "stream",
          "name": "stderr",
          "text": [
            "Training:  91%|█████████ | 909/1000 [00:15<00:01, 50.82it/s]"
          ]
        },
        {
          "output_type": "stream",
          "name": "stdout",
          "text": [
            "Recent success rate (last 100 episodes): 0.88\n",
            "Recent success rate (last 100 episodes): 0.88\n",
            "Recent success rate (last 100 episodes): 0.88\n",
            "Recent success rate (last 100 episodes): 0.88\n",
            "Recent success rate (last 100 episodes): 0.88\n",
            "Recent success rate (last 100 episodes): 0.88\n",
            "Recent success rate (last 100 episodes): 0.88\n",
            "Recent success rate (last 100 episodes): 0.88\n",
            "Recent success rate (last 100 episodes): 0.88\n",
            "Recent success rate (last 100 episodes): 0.88\n",
            "Recent success rate (last 100 episodes): 0.88\n",
            "Recent success rate (last 100 episodes): 0.88\n",
            "Recent success rate (last 100 episodes): 0.88\n",
            "Recent success rate (last 100 episodes): 0.88\n",
            "Recent success rate (last 100 episodes): 0.88\n",
            "Recent success rate (last 100 episodes): 0.88\n",
            "Recent success rate (last 100 episodes): 0.87\n",
            "Recent success rate (last 100 episodes): 0.87\n",
            "Recent success rate (last 100 episodes): 0.87\n"
          ]
        },
        {
          "output_type": "stream",
          "name": "stderr",
          "text": [
            "Training:  93%|█████████▎| 931/1000 [00:15<00:00, 70.51it/s]"
          ]
        },
        {
          "output_type": "stream",
          "name": "stdout",
          "text": [
            "Recent success rate (last 100 episodes): 0.87\n",
            "Recent success rate (last 100 episodes): 0.87\n",
            "Recent success rate (last 100 episodes): 0.87\n",
            "Recent success rate (last 100 episodes): 0.87\n",
            "Recent success rate (last 100 episodes): 0.86\n",
            "Recent success rate (last 100 episodes): 0.86\n",
            "Recent success rate (last 100 episodes): 0.85\n",
            "Recent success rate (last 100 episodes): 0.85\n",
            "Recent success rate (last 100 episodes): 0.85\n",
            "Recent success rate (last 100 episodes): 0.85\n",
            "Recent success rate (last 100 episodes): 0.85\n",
            "Recent success rate (last 100 episodes): 0.85\n",
            "Recent success rate (last 100 episodes): 0.85\n",
            "Recent success rate (last 100 episodes): 0.84\n",
            "Recent success rate (last 100 episodes): 0.84\n",
            "Recent success rate (last 100 episodes): 0.84\n",
            "Recent success rate (last 100 episodes): 0.84\n",
            "Recent success rate (last 100 episodes): 0.84\n",
            "Recent success rate (last 100 episodes): 0.84\n",
            "Recent success rate (last 100 episodes): 0.84\n",
            "Recent success rate (last 100 episodes): 0.84\n",
            "Recent success rate (last 100 episodes): 0.84\n",
            "Recent success rate (last 100 episodes): 0.84\n",
            "Recent success rate (last 100 episodes): 0.84\n",
            "Recent success rate (last 100 episodes): 0.84\n",
            "Recent success rate (last 100 episodes): 0.84\n",
            "Recent success rate (last 100 episodes): 0.84\n"
          ]
        },
        {
          "output_type": "stream",
          "name": "stderr",
          "text": [
            "Training:  95%|█████████▌| 954/1000 [00:16<00:00, 87.20it/s]"
          ]
        },
        {
          "output_type": "stream",
          "name": "stdout",
          "text": [
            "Recent success rate (last 100 episodes): 0.85\n",
            "Recent success rate (last 100 episodes): 0.85\n",
            "Recent success rate (last 100 episodes): 0.85\n",
            "Recent success rate (last 100 episodes): 0.85\n",
            "Recent success rate (last 100 episodes): 0.85\n",
            "Recent success rate (last 100 episodes): 0.86\n",
            "Recent success rate (last 100 episodes): 0.86\n",
            "Recent success rate (last 100 episodes): 0.86\n",
            "Recent success rate (last 100 episodes): 0.86\n",
            "Recent success rate (last 100 episodes): 0.86\n",
            "Recent success rate (last 100 episodes): 0.86\n",
            "Recent success rate (last 100 episodes): 0.86\n",
            "Recent success rate (last 100 episodes): 0.86\n",
            "Recent success rate (last 100 episodes): 0.86\n",
            "Recent success rate (last 100 episodes): 0.86\n",
            "Recent success rate (last 100 episodes): 0.86\n",
            "Recent success rate (last 100 episodes): 0.86\n",
            "Recent success rate (last 100 episodes): 0.87\n",
            "Recent success rate (last 100 episodes): 0.88\n",
            "Recent success rate (last 100 episodes): 0.89\n"
          ]
        },
        {
          "output_type": "stream",
          "name": "stderr",
          "text": [
            "Training:  97%|█████████▋| 974/1000 [00:16<00:00, 84.36it/s]"
          ]
        },
        {
          "output_type": "stream",
          "name": "stdout",
          "text": [
            "Recent success rate (last 100 episodes): 0.89\n",
            "Recent success rate (last 100 episodes): 0.89\n",
            "Recent success rate (last 100 episodes): 0.89\n",
            "Recent success rate (last 100 episodes): 0.89\n",
            "Recent success rate (last 100 episodes): 0.89\n",
            "Recent success rate (last 100 episodes): 0.89\n",
            "Recent success rate (last 100 episodes): 0.89\n",
            "Recent success rate (last 100 episodes): 0.90\n",
            "Recent success rate (last 100 episodes): 0.91\n",
            "Recent success rate (last 100 episodes): 0.91\n",
            "Recent success rate (last 100 episodes): 0.91\n",
            "Recent success rate (last 100 episodes): 0.92\n",
            "Recent success rate (last 100 episodes): 0.93\n",
            "Recent success rate (last 100 episodes): 0.94\n",
            "Recent success rate (last 100 episodes): 0.94\n",
            "Recent success rate (last 100 episodes): 0.94\n",
            "Recent success rate (last 100 episodes): 0.95\n",
            "Recent success rate (last 100 episodes): 0.94\n",
            "Recent success rate (last 100 episodes): 0.93\n"
          ]
        },
        {
          "output_type": "stream",
          "name": "stderr",
          "text": [
            "Training: 100%|██████████| 1000/1000 [00:16<00:00, 60.06it/s]"
          ]
        },
        {
          "output_type": "stream",
          "name": "stdout",
          "text": [
            "Recent success rate (last 100 episodes): 0.93\n",
            "Recent success rate (last 100 episodes): 0.93\n",
            "Recent success rate (last 100 episodes): 0.93\n",
            "Recent success rate (last 100 episodes): 0.93\n",
            "Recent success rate (last 100 episodes): 0.93\n",
            "Recent success rate (last 100 episodes): 0.92\n",
            "Recent success rate (last 100 episodes): 0.91\n",
            "Recent success rate (last 100 episodes): 0.91\n",
            "Recent success rate (last 100 episodes): 0.91\n",
            "Recent success rate (last 100 episodes): 0.91\n",
            "Recent success rate (last 100 episodes): 0.91\n",
            "Recent success rate (last 100 episodes): 0.91\n",
            "Recent success rate (last 100 episodes): 0.91\n",
            "Recent success rate (last 100 episodes): 0.91\n",
            "Recent success rate (last 100 episodes): 0.90\n",
            "Recent success rate (last 100 episodes): 0.91\n",
            "Recent success rate (last 100 episodes): 0.91\n",
            "Recent success rate (last 100 episodes): 0.91\n",
            "Recent success rate (last 100 episodes): 0.91\n"
          ]
        },
        {
          "output_type": "stream",
          "name": "stderr",
          "text": [
            "\n"
          ]
        },
        {
          "output_type": "display_data",
          "data": {
            "text/plain": [
              "<Figure size 640x480 with 1 Axes>"
            ],
            "image/png": "[encoded data removed]"
          },
          "metadata": {}
        }
      ]
    }
  ]
}